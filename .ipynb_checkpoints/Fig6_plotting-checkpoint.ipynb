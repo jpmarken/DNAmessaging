{
 "cells": [
  {
   "cell_type": "markdown",
   "id": "4e0c19f3-a738-4317-869a-107b91e75379",
   "metadata": {},
   "source": [
    "# Fig 6 plotting\n",
    "\n",
    "Plots data associated with figure 6."
   ]
  },
  {
   "cell_type": "markdown",
   "id": "1efff575-46ba-4274-8e46-016da4ba4dd1",
   "metadata": {},
   "source": [
    "### Standard Imports"
   ]
  },
  {
   "cell_type": "code",
   "execution_count": 2,
   "id": "2ad19b28-6e25-4876-a8dd-3b271b64dd1b",
   "metadata": {},
   "outputs": [],
   "source": [
    "# standard imports\n",
    "import pandas as pd\n",
    "import numpy as np\n",
    "import matplotlib.pyplot as plt\n",
    "import seaborn as sns\n",
    "import scipy.stats as stats\n",
    "import matplotlib as mpl\n",
    "from cycler import cycler\n",
    "import pylab\n",
    "from matplotlib.colors import LogNorm, Normalize\n",
    "\n",
    "# Plotting parameters\n",
    "sns.set_context(\"talk\", font_scale=1, rc={\"lines.linewidth\": 2.0, 'lines.markersize': 5})\n",
    "sns.set_style(\"ticks\")\n",
    "sns.set_style({\"xtick.direction\": \"in\",\"ytick.direction\": \"in\"})\n",
    "mpl.rc('axes', prop_cycle=(cycler('color', ['r', 'k', 'b','g','y','m','c']) ))\n",
    "mpl.rc('text', usetex=False)\n",
    "tw = 1.5\n",
    "sns.set_style({\"xtick.major.size\": 12, \"ytick.major.size\": 12,\n",
    "               \"xtick.minor.size\": 8, \"ytick.minor.size\": 8,\n",
    "               'axes.labelsize': 48,\n",
    "               'xtick.major.width': tw, 'xtick.minor.width': tw,\n",
    "               'ytick.major.width': tw, 'ytick.minor.width': tw})\n",
    "mpl.rc('xtick', labelsize=24) \n",
    "mpl.rc('ytick', labelsize=24)\n",
    "mpl.rc('axes', linewidth=1.75)\n",
    "plt.gcf().subplots_adjust(bottom=0.15)\n",
    "sns.set_style({'axes.labelsize': 48, 'axes.titlesize': 48})\n",
    "cm = 1/2.54\n",
    "\n",
    "\n",
    "# Color variables\n",
    "cb_green = (102/255, 194/255, 165/255, 0.5)\n",
    "cb_orange = (252/255, 141/255, 98/255, 0.5)\n",
    "cb_blue = (141/255, 160/255, 203/255, 0.5)\n",
    "cb_darkblue = (141/255, 160/255, 203/255, 0.25)\n",
    "alpha_grey = (215/255, 215/255, 215/255, 1.0)\n",
    "alpha_val = 0.5\n",
    "alpha_red = (alpha_val + 1/2, alpha_val, alpha_val)\n",
    "alpha_black = (alpha_val, alpha_val, alpha_val)\n",
    "alpha_blue = (alpha_val, alpha_val, alpha_val + 1/2)\n",
    "\n",
    "%matplotlib inline"
   ]
  },
  {
   "cell_type": "markdown",
   "id": "6e6a5b86-0e7d-4918-847f-f43310940fe1",
   "metadata": {},
   "source": [
    "### Import data"
   ]
  },
  {
   "cell_type": "code",
   "execution_count": 3,
   "id": "77e82010-07ca-4ddd-89aa-2149eba9a8a2",
   "metadata": {},
   "outputs": [],
   "source": [
    "df = pd.read_excel('./data/CFU_counts.xlsx', sheet_name='Fig 6b')\n",
    "df_t = pd.read_excel('./data/CFU_counts.xlsx', sheet_name='Fig 6c')\n",
    "df_pcr = pd.read_excel('./data/relay_PCR_results.xlsx')"
   ]
  },
  {
   "cell_type": "markdown",
   "id": "bf92ed8c-4be7-478e-9a09-818ed43afffb",
   "metadata": {},
   "source": [
    "### Plot endpoint CFUs"
   ]
  },
  {
   "cell_type": "code",
   "execution_count": 4,
   "id": "8cc9ab75-3d7a-470e-8193-1f27258391f0",
   "metadata": {},
   "outputs": [
    {
     "data": {
      "image/png": "[encoded data removed]",
      "text/plain": [
       "<Figure size 720x432 with 1 Axes>"
      ]
     },
     "metadata": {
      "needs_background": "light"
     },
     "output_type": "display_data"
    }
   ],
   "source": [
    "fig = plt.figure(figsize=(10,6))\n",
    "sns.barplot(data=df, x='Strain', y='CFUs/mL', alpha=1, ci=None, order=[1,2,3,'T2','T3'],\n",
    "             palette=[cb_green,'red','blue',cb_orange,cb_blue], estimator=stats.mstats.gmean,\n",
    "           edgecolor='k')\n",
    "sns.swarmplot(data=df, x='Strain', y='CFUs/mL', order=[1,2,3,'T2','T3'], color='k', s=10)\n",
    "plt.gca().set_yscale('log')\n",
    "plt.gca().set_ylim((1e5,1e9))\n",
    "plt.tight_layout()\n",
    "plt.savefig('./figs/Fig_6B.pdf')\n",
    "plt.show()"
   ]
  },
  {
   "cell_type": "markdown",
   "id": "ea139192-c242-4b52-b49f-adf946add437",
   "metadata": {},
   "source": [
    "### Calculate fold difference of the Strains"
   ]
  },
  {
   "cell_type": "code",
   "execution_count": 5,
   "id": "67637e13-cef9-4e8d-ba3d-495bd1b15f34",
   "metadata": {},
   "outputs": [
    {
     "name": "stdout",
     "output_type": "stream",
     "text": [
      "Strain 3 is 5.045146684019802-fold denser than Strain 2\n",
      "Strain 2 is 3.2977048309267416-fold denser than Strain 1\n",
      "Strain 3 is 16.637404592626133-fold denser than Strain 1\n",
      "Strain T2 is 2.9120339244897915-fold denser than Strain T3\n"
     ]
    }
   ],
   "source": [
    "cfus_3 = df[df.Strain==3]['CFUs/mL'].values\n",
    "cfus_2 = df[df.Strain==2]['CFUs/mL'].values\n",
    "cfus_1 = df[df.Strain==1]['CFUs/mL'].values\n",
    "cfus_t3 = df[df.Strain=='T3']['CFUs/mL'].values\n",
    "cfus_t2 = df[df.Strain=='T2']['CFUs/mL'].values\n",
    "\n",
    "gm_3 = stats.mstats.gmean(cfus_3)\n",
    "gm_2 = stats.mstats.gmean(cfus_2)\n",
    "gm_1 = stats.mstats.gmean(cfus_1)\n",
    "gm_t3 = stats.mstats.gmean(cfus_t3)\n",
    "gm_t2 = stats.mstats.gmean(cfus_t2)\n",
    "\n",
    "print(f'Strain 3 is {gm_3/gm_2}-fold denser than Strain 2')\n",
    "print(f'Strain 2 is {gm_2/gm_1}-fold denser than Strain 1')\n",
    "print(f'Strain 3 is {gm_3/gm_1}-fold denser than Strain 1')\n",
    "\n",
    "print(f'Strain T2 is {gm_t2/gm_t3}-fold denser than Strain T3')"
   ]
  },
  {
   "cell_type": "markdown",
   "id": "4f5d22fc-62b9-4a76-a03c-08f1bbea4540",
   "metadata": {},
   "source": [
    "### Perform statistical test\n",
    "\n",
    "We will peform a paired t-test to determine, for each replicate population, whether two output measures from that population (the endpoint density of each of two strains in the comparison) differ significantly."
   ]
  },
  {
   "cell_type": "code",
   "execution_count": 11,
   "id": "4e2e1f8b-c7f0-4f9f-8e69-4b76519e7672",
   "metadata": {},
   "outputs": [
    {
     "name": "stdout",
     "output_type": "stream",
     "text": [
      "The p value of the test comparing Strains 3 and 2 is 0.017.\n",
      "The p value of the test comparing Strains 2 and 1 is 0.203.\n",
      "The p value of the test comparing Strains T3 and T2 is 0.086.\n"
     ]
    }
   ],
   "source": [
    "t32, p32 = stats.ttest_rel(np.log10(cfus_3), np.log10(cfus_2))\n",
    "t21, p21 = stats.ttest_rel(np.log10(cfus_2), np.log10(cfus_1))\n",
    "tT3T2, pT3T2 = stats.ttest_rel(np.log10(cfus_t3), np.log10(cfus_t2))\n",
    "\n",
    "print(f'The p value of the test comparing Strains 3 and 2 is {p32:.3f}.')\n",
    "print(f'The p value of the test comparing Strains 2 and 1 is {p21:.3f}.')\n",
    "print(f'The p value of the test comparing Strains T3 and T2 is {pT3T2:.3f}.')"
   ]
  },
  {
   "cell_type": "markdown",
   "id": "a75649c1-9af5-4155-b043-75a17c70105a",
   "metadata": {},
   "source": [
    "### Calculate endpoint transfer rates"
   ]
  },
  {
   "cell_type": "code",
   "execution_count": 7,
   "id": "f3f0ceeb-1155-4065-9b3f-93677bff854c",
   "metadata": {},
   "outputs": [],
   "source": [
    "rate_df = pd.DataFrame(columns=['Replicate',\n",
    "                                'Transfer',\n",
    "                                'Transfer Rate',\n",
    "                                'Penetrance',\n",
    "                               ], dtype='float64')\n",
    "reps = [1,2,3]\n",
    "transfers = ['First','Second']\n",
    "senders = [1,'T2']\n",
    "receivers = [2,3]\n",
    "transconjugants = ['T2','T3']\n",
    "\n",
    "for t in range(2):\n",
    "    slabel = senders[t]\n",
    "    rlabel = receivers[t]\n",
    "    tlabel = transconjugants[t]\n",
    "    \n",
    "    for r in range(len(reps)):\n",
    "        rep = reps[r]\n",
    "        \n",
    "        Sval = df[(df['Replicate']==rep) &\n",
    "                  (df['Strain']==slabel)]['CFUs/mL'].values\n",
    "        Rval = df[(df['Replicate']==rep) &\n",
    "                  (df['Strain']==rlabel)]['CFUs/mL'].values\n",
    "        Tval = df[(df['Replicate']==rep) &\n",
    "                  (df['Strain']==tlabel)]['CFUs/mL'].values\n",
    "        \n",
    "        assert len(Sval)==1\n",
    "        assert len(Rval)==1\n",
    "        assert len(Tval)==1\n",
    "        \n",
    "        Sval = Sval[0]\n",
    "        Rval = Rval[0]\n",
    "        Tval = Tval[0]\n",
    "        \n",
    "        rate = Tval/(Sval*Rval)\n",
    "        pen = Tval/Rval\n",
    "        \n",
    "        tempdict = pd.DataFrame({'Replicate': rep,\n",
    "                    'Transfer': transfers[t],\n",
    "                    'Transfer Rate': rate,\n",
    "                    'Penetrance': pen,},\n",
    "                                index=[0])\n",
    "\n",
    "        rate_df = pd.concat([rate_df, tempdict], ignore_index=True)"
   ]
  },
  {
   "cell_type": "code",
   "execution_count": 8,
   "id": "7c2eb444-4096-41f7-afce-af8fb9c8ef92",
   "metadata": {
    "tags": []
   },
   "outputs": [
    {
     "data": {
      "image/png": "[encoded data removed]",
      "text/plain": [
       "<Figure size 288x432 with 1 Axes>"
      ]
     },
     "metadata": {
      "needs_background": "light"
     },
     "output_type": "display_data"
    }
   ],
   "source": [
    "fig = plt.figure(figsize=(4,6))\n",
    "sns.barplot(data=rate_df, x='Transfer', y='Transfer Rate', alpha=None,\n",
    "            palette=[cb_orange,cb_blue],ci=None, edgecolor='k',\n",
    "            order=['First', 'Second'], estimator=stats.mstats.gmean)\n",
    "sns.swarmplot(data=rate_df, x='Transfer', y='Transfer Rate', alpha=None,\n",
    "            palette=['k'], edgecolor='k', s=10,\n",
    "            order=['First', 'Second'])\n",
    "\n",
    "plt.gca().set_yscale('log')\n",
    "plt.gca().set_ylim((1e-10,1e-9))\n",
    "plt.tight_layout()\n",
    "plt.savefig('./figs/Fig_6E.pdf')\n",
    "plt.show()"
   ]
  },
  {
   "cell_type": "markdown",
   "id": "626afa27-dbb3-4a26-80ee-288e2e6552b0",
   "metadata": {},
   "source": [
    "### Perform statistics on transfer rate\n",
    "\n",
    "We will peform a paired t-test to determine whether, for a given replicate population, one output measure (the first transfer rate) differs from another transfer measure (the second transfer measure)."
   ]
  },
  {
   "cell_type": "code",
   "execution_count": 13,
   "id": "d2b2b8a2-be5b-4f05-ad1b-4b0b718cac8f",
   "metadata": {},
   "outputs": [
    {
     "name": "stdout",
     "output_type": "stream",
     "text": [
      "The fold change in transfer rates was 1.286\n",
      "The p value of the test was 0.607\n"
     ]
    }
   ],
   "source": [
    "firsts = rate_df[rate_df['Transfer'] == 'First']['Transfer Rate'].values\n",
    "seconds = rate_df[rate_df['Transfer'] == 'Second']['Transfer Rate'].values\n",
    "\n",
    "gm_1 = stats.mstats.gmean(firsts)\n",
    "gm_2 = stats.mstats.gmean(seconds)\n",
    "\n",
    "ttransfs, ptransfs = stats.ttest_rel(np.log10(firsts), np.log10(seconds))\n",
    "\n",
    "print(f'The fold change in transfer rates was {gm_2/gm_1:.3f}')\n",
    "print(f'The p value of the test was {ptransfs:.3f}')"
   ]
  },
  {
   "cell_type": "markdown",
   "id": "d25d9763-c68f-4029-913d-d7d3132bfdab",
   "metadata": {},
   "source": [
    "### Calculate fractional receiver conversion"
   ]
  },
  {
   "cell_type": "code",
   "execution_count": 8,
   "id": "3432cd61-c05d-4aac-b1bd-0e098b291098",
   "metadata": {},
   "outputs": [
    {
     "data": {
      "image/png": "[encoded data removed]",
      "text/plain": [
       "<Figure size 288x432 with 1 Axes>"
      ]
     },
     "metadata": {
      "needs_background": "light"
     },
     "output_type": "display_data"
    }
   ],
   "source": [
    "fig = plt.figure(figsize=(4,6))\n",
    "sns.barplot(data=rate_df, x='Transfer', y='Penetrance', alpha=None,\n",
    "            palette=[cb_orange,cb_blue],ci=None, edgecolor='k',\n",
    "            order=['First', 'Second'], estimator=stats.mstats.gmean)\n",
    "sns.swarmplot(data=rate_df, x='Transfer', y='Penetrance', alpha=None,\n",
    "            palette=['k'], edgecolor='k', s=10,\n",
    "            order=['First', 'Second'])\n",
    "\n",
    "plt.ylabel('Fractional Receiver Conversion')\n",
    "plt.gca().set_yscale('log')\n",
    "plt.tight_layout()\n",
    "plt.show()"
   ]
  },
  {
   "cell_type": "code",
   "execution_count": 9,
   "id": "dec450b6-dfe1-4206-9c8b-e82522864fc7",
   "metadata": {},
   "outputs": [
    {
     "name": "stdout",
     "output_type": "stream",
     "text": [
      "The geometric mean conversion of the Strain 2 receivers was 0.01605288766636407.\n",
      "The geometric mean conversion of the Strain 3 receivers was 0.0010926547020060047.\n"
     ]
    }
   ],
   "source": [
    "mean_pen_first = stats.mstats.gmean(rate_df[rate_df['Transfer']=='First']['Penetrance'].values)\n",
    "mean_pen_second = stats.mstats.gmean(rate_df[rate_df['Transfer']=='Second']['Penetrance'].values)\n",
    "\n",
    "print(f'The geometric mean conversion of the Strain 2 receivers was {mean_pen_first}.')\n",
    "print(f'The geometric mean conversion of the Strain 3 receivers was {mean_pen_second}.')"
   ]
  },
  {
   "cell_type": "markdown",
   "id": "52b5fd3e-98b3-4a5e-ab3b-3d186ed73960",
   "metadata": {
    "tags": []
   },
   "source": [
    "### Plot timecourse data"
   ]
  },
  {
   "cell_type": "code",
   "execution_count": 10,
   "id": "634fb10b-2fd0-4876-ac56-ccfee1b69d8c",
   "metadata": {},
   "outputs": [
    {
     "name": "stderr",
     "output_type": "stream",
     "text": [
      "/Users/john/opt/anaconda3/lib/python3.8/site-packages/seaborn/relational.py:657: VisibleDeprecationWarning: Creating an ndarray from ragged nested sequences (which is a list-or-tuple of lists-or-tuples-or ndarrays with different lengths or shapes) is deprecated. If you meant to do this, you must specify 'dtype=object' when creating the ndarray.\n",
      "  args = np.asarray(x), np.asarray(y), np.asarray(s), np.asarray(c)\n"
     ]
    },
    {
     "data": {
      "image/png": "[encoded data removed]",
      "text/plain": [
       "<Figure size 864x432 with 1 Axes>"
      ]
     },
     "metadata": {
      "needs_background": "light"
     },
     "output_type": "display_data"
    }
   ],
   "source": [
    "fig = plt.figure(figsize=(12,6))\n",
    "sns.lineplot(data=df_t, x='Time (hr)', y='CFUs/mL',\n",
    "             hue='Strain', linewidth=5,\n",
    "             hue_order = [1,2,3,'T2','T3'],\n",
    "             palette=[cb_green,'red','blue',cb_orange,cb_blue],\n",
    "             alpha=1,\n",
    "            )\n",
    "sns.scatterplot(data=df_t, x='Time (hr)', y='CFUs/mL',\n",
    "                hue='Strain', s=150,\n",
    "             legend=None,\n",
    "             hue_order = [1,2,3,'T2','T3'],\n",
    "                palette=[cb_green,'red','blue',cb_orange,cb_blue],\n",
    "                alpha=1,\n",
    "               )\n",
    "plt.gca().set_yscale('log')\n",
    "plt.gca().set_ylim((1e0,1e10))\n",
    "\n",
    "xmin, xmax = plt.gca().get_xlim()\n",
    "plt.plot([-1,8],[10,10], 'k--')\n",
    "plt.gca().set_xlim((xmin, xmax))\n",
    "\n",
    "plt.legend(loc='upper left')\n",
    "\n",
    "plt.tight_layout()\n",
    "plt.savefig('./figs/Fig_6C.pdf')\n",
    "\n",
    "plt.show()"
   ]
  },
  {
   "cell_type": "markdown",
   "id": "9ac74473-31d5-49b1-825c-b5ee3173a603",
   "metadata": {},
   "source": [
    "## Plot out PCR assay results"
   ]
  },
  {
   "cell_type": "code",
   "execution_count": 11,
   "id": "6202617b-95ff-41b4-97e8-c4cd51908bd8",
   "metadata": {},
   "outputs": [
    {
     "data": {
      "text/html": [
       "<div>\n",
       "<style scoped>\n",
       "    .dataframe tbody tr th:only-of-type {\n",
       "        vertical-align: middle;\n",
       "    }\n",
       "\n",
       "    .dataframe tbody tr th {\n",
       "        vertical-align: top;\n",
       "    }\n",
       "\n",
       "    .dataframe thead th {\n",
       "        text-align: right;\n",
       "    }\n",
       "</style>\n",
       "<table border=\"1\" class=\"dataframe\">\n",
       "  <thead>\n",
       "    <tr style=\"text-align: right;\">\n",
       "      <th></th>\n",
       "      <th>Strain</th>\n",
       "      <th>No. Colonies PCR'd</th>\n",
       "      <th>No. None</th>\n",
       "      <th>No. B only</th>\n",
       "      <th>No. A only</th>\n",
       "      <th>No. A and B</th>\n",
       "      <th>Frac. None</th>\n",
       "      <th>Frac. B only</th>\n",
       "      <th>Frac. A only</th>\n",
       "      <th>Frac. A and B</th>\n",
       "      <th>Expec. None</th>\n",
       "      <th>Expec. B only</th>\n",
       "      <th>Expec. A only</th>\n",
       "      <th>Expec. A and B</th>\n",
       "    </tr>\n",
       "  </thead>\n",
       "  <tbody>\n",
       "    <tr>\n",
       "      <th>0</th>\n",
       "      <td>1</td>\n",
       "      <td>21</td>\n",
       "      <td>0</td>\n",
       "      <td>0</td>\n",
       "      <td>20</td>\n",
       "      <td>1</td>\n",
       "      <td>0.000000</td>\n",
       "      <td>0.000000</td>\n",
       "      <td>0.952381</td>\n",
       "      <td>0.047619</td>\n",
       "      <td>0</td>\n",
       "      <td>0</td>\n",
       "      <td>1</td>\n",
       "      <td>0</td>\n",
       "    </tr>\n",
       "    <tr>\n",
       "      <th>1</th>\n",
       "      <td>T2</td>\n",
       "      <td>21</td>\n",
       "      <td>1</td>\n",
       "      <td>19</td>\n",
       "      <td>0</td>\n",
       "      <td>1</td>\n",
       "      <td>0.047619</td>\n",
       "      <td>0.904762</td>\n",
       "      <td>0.000000</td>\n",
       "      <td>0.047619</td>\n",
       "      <td>0</td>\n",
       "      <td>1</td>\n",
       "      <td>0</td>\n",
       "      <td>0</td>\n",
       "    </tr>\n",
       "    <tr>\n",
       "      <th>2</th>\n",
       "      <td>T3</td>\n",
       "      <td>21</td>\n",
       "      <td>4</td>\n",
       "      <td>17</td>\n",
       "      <td>0</td>\n",
       "      <td>0</td>\n",
       "      <td>0.190476</td>\n",
       "      <td>0.809524</td>\n",
       "      <td>0.000000</td>\n",
       "      <td>0.000000</td>\n",
       "      <td>0</td>\n",
       "      <td>1</td>\n",
       "      <td>0</td>\n",
       "      <td>0</td>\n",
       "    </tr>\n",
       "    <tr>\n",
       "      <th>3</th>\n",
       "      <td>3</td>\n",
       "      <td>21</td>\n",
       "      <td>21</td>\n",
       "      <td>0</td>\n",
       "      <td>0</td>\n",
       "      <td>0</td>\n",
       "      <td>1.000000</td>\n",
       "      <td>0.000000</td>\n",
       "      <td>0.000000</td>\n",
       "      <td>0.000000</td>\n",
       "      <td>1</td>\n",
       "      <td>0</td>\n",
       "      <td>0</td>\n",
       "      <td>0</td>\n",
       "    </tr>\n",
       "  </tbody>\n",
       "</table>\n",
       "</div>"
      ],
      "text/plain": [
       "  Strain  No. Colonies PCR'd  No. None  No. B only  No. A only  No. A and B  \\\n",
       "0      1                  21         0           0          20            1   \n",
       "1     T2                  21         1          19           0            1   \n",
       "2     T3                  21         4          17           0            0   \n",
       "3      3                  21        21           0           0            0   \n",
       "\n",
       "   Frac. None  Frac. B only  Frac. A only  Frac. A and B  Expec. None  \\\n",
       "0    0.000000      0.000000      0.952381       0.047619            0   \n",
       "1    0.047619      0.904762      0.000000       0.047619            0   \n",
       "2    0.190476      0.809524      0.000000       0.000000            0   \n",
       "3    1.000000      0.000000      0.000000       0.000000            1   \n",
       "\n",
       "   Expec. B only  Expec. A only  Expec. A and B  \n",
       "0              0              1               0  \n",
       "1              1              0               0  \n",
       "2              1              0               0  \n",
       "3              0              0               0  "
      ]
     },
     "execution_count": 11,
     "metadata": {},
     "output_type": "execute_result"
    }
   ],
   "source": [
    "df_pcr"
   ]
  },
  {
   "cell_type": "code",
   "execution_count": 12,
   "id": "0f555271-f0d9-4a77-938c-f9609784c1e6",
   "metadata": {},
   "outputs": [
    {
     "data": {
      "text/html": [
       "<div>\n",
       "<style scoped>\n",
       "    .dataframe tbody tr th:only-of-type {\n",
       "        vertical-align: middle;\n",
       "    }\n",
       "\n",
       "    .dataframe tbody tr th {\n",
       "        vertical-align: top;\n",
       "    }\n",
       "\n",
       "    .dataframe thead th {\n",
       "        text-align: right;\n",
       "    }\n",
       "</style>\n",
       "<table border=\"1\" class=\"dataframe\">\n",
       "  <thead>\n",
       "    <tr style=\"text-align: right;\">\n",
       "      <th></th>\n",
       "      <th>Frac. None</th>\n",
       "      <th>Frac. B only</th>\n",
       "      <th>Frac. A only</th>\n",
       "      <th>Frac. A and B</th>\n",
       "    </tr>\n",
       "  </thead>\n",
       "  <tbody>\n",
       "    <tr>\n",
       "      <th>0</th>\n",
       "      <td>0.000000</td>\n",
       "      <td>0.000000</td>\n",
       "      <td>0.952381</td>\n",
       "      <td>0.047619</td>\n",
       "    </tr>\n",
       "    <tr>\n",
       "      <th>1</th>\n",
       "      <td>0.047619</td>\n",
       "      <td>0.904762</td>\n",
       "      <td>0.000000</td>\n",
       "      <td>0.047619</td>\n",
       "    </tr>\n",
       "    <tr>\n",
       "      <th>2</th>\n",
       "      <td>0.190476</td>\n",
       "      <td>0.809524</td>\n",
       "      <td>0.000000</td>\n",
       "      <td>0.000000</td>\n",
       "    </tr>\n",
       "    <tr>\n",
       "      <th>3</th>\n",
       "      <td>1.000000</td>\n",
       "      <td>0.000000</td>\n",
       "      <td>0.000000</td>\n",
       "      <td>0.000000</td>\n",
       "    </tr>\n",
       "  </tbody>\n",
       "</table>\n",
       "</div>"
      ],
      "text/plain": [
       "   Frac. None  Frac. B only  Frac. A only  Frac. A and B\n",
       "0    0.000000      0.000000      0.952381       0.047619\n",
       "1    0.047619      0.904762      0.000000       0.047619\n",
       "2    0.190476      0.809524      0.000000       0.000000\n",
       "3    1.000000      0.000000      0.000000       0.000000"
      ]
     },
     "execution_count": 12,
     "metadata": {},
     "output_type": "execute_result"
    }
   ],
   "source": [
    "df_pcr_data = df_pcr.loc[:, 'Frac. None':'Frac. A and B']\n",
    "df_pcr_data"
   ]
  },
  {
   "cell_type": "code",
   "execution_count": 13,
   "id": "412f880e-3265-4e89-bd8a-8ee2d0f6c083",
   "metadata": {},
   "outputs": [
    {
     "data": {
      "text/html": [
       "<div>\n",
       "<style scoped>\n",
       "    .dataframe tbody tr th:only-of-type {\n",
       "        vertical-align: middle;\n",
       "    }\n",
       "\n",
       "    .dataframe tbody tr th {\n",
       "        vertical-align: top;\n",
       "    }\n",
       "\n",
       "    .dataframe thead th {\n",
       "        text-align: right;\n",
       "    }\n",
       "</style>\n",
       "<table border=\"1\" class=\"dataframe\">\n",
       "  <thead>\n",
       "    <tr style=\"text-align: right;\">\n",
       "      <th></th>\n",
       "      <th>Expec. None</th>\n",
       "      <th>Expec. B only</th>\n",
       "      <th>Expec. A only</th>\n",
       "      <th>Expec. A and B</th>\n",
       "    </tr>\n",
       "  </thead>\n",
       "  <tbody>\n",
       "    <tr>\n",
       "      <th>0</th>\n",
       "      <td>0</td>\n",
       "      <td>0</td>\n",
       "      <td>1</td>\n",
       "      <td>0</td>\n",
       "    </tr>\n",
       "    <tr>\n",
       "      <th>1</th>\n",
       "      <td>0</td>\n",
       "      <td>1</td>\n",
       "      <td>0</td>\n",
       "      <td>0</td>\n",
       "    </tr>\n",
       "    <tr>\n",
       "      <th>2</th>\n",
       "      <td>0</td>\n",
       "      <td>1</td>\n",
       "      <td>0</td>\n",
       "      <td>0</td>\n",
       "    </tr>\n",
       "    <tr>\n",
       "      <th>3</th>\n",
       "      <td>1</td>\n",
       "      <td>0</td>\n",
       "      <td>0</td>\n",
       "      <td>0</td>\n",
       "    </tr>\n",
       "  </tbody>\n",
       "</table>\n",
       "</div>"
      ],
      "text/plain": [
       "   Expec. None  Expec. B only  Expec. A only  Expec. A and B\n",
       "0            0              0              1               0\n",
       "1            0              1              0               0\n",
       "2            0              1              0               0\n",
       "3            1              0              0               0"
      ]
     },
     "execution_count": 13,
     "metadata": {},
     "output_type": "execute_result"
    }
   ],
   "source": [
    "df_pcr_expect = df_pcr.loc[:, 'Expec. None':'Expec. A and B']\n",
    "df_pcr_expect"
   ]
  },
  {
   "cell_type": "code",
   "execution_count": 14,
   "id": "4e49e564-237d-4c53-9479-ab08e22df456",
   "metadata": {},
   "outputs": [
    {
     "data": {
      "text/html": [
       "<div>\n",
       "<style scoped>\n",
       "    .dataframe tbody tr th:only-of-type {\n",
       "        vertical-align: middle;\n",
       "    }\n",
       "\n",
       "    .dataframe tbody tr th {\n",
       "        vertical-align: top;\n",
       "    }\n",
       "\n",
       "    .dataframe thead th {\n",
       "        text-align: right;\n",
       "    }\n",
       "</style>\n",
       "<table border=\"1\" class=\"dataframe\">\n",
       "  <thead>\n",
       "    <tr style=\"text-align: right;\">\n",
       "      <th></th>\n",
       "      <th>No. None</th>\n",
       "      <th>No. B only</th>\n",
       "      <th>No. A only</th>\n",
       "      <th>No. A and B</th>\n",
       "    </tr>\n",
       "  </thead>\n",
       "  <tbody>\n",
       "    <tr>\n",
       "      <th>0</th>\n",
       "      <td>0</td>\n",
       "      <td>0</td>\n",
       "      <td>20</td>\n",
       "      <td>1</td>\n",
       "    </tr>\n",
       "    <tr>\n",
       "      <th>1</th>\n",
       "      <td>1</td>\n",
       "      <td>19</td>\n",
       "      <td>0</td>\n",
       "      <td>1</td>\n",
       "    </tr>\n",
       "    <tr>\n",
       "      <th>2</th>\n",
       "      <td>4</td>\n",
       "      <td>17</td>\n",
       "      <td>0</td>\n",
       "      <td>0</td>\n",
       "    </tr>\n",
       "    <tr>\n",
       "      <th>3</th>\n",
       "      <td>21</td>\n",
       "      <td>0</td>\n",
       "      <td>0</td>\n",
       "      <td>0</td>\n",
       "    </tr>\n",
       "  </tbody>\n",
       "</table>\n",
       "</div>"
      ],
      "text/plain": [
       "   No. None  No. B only  No. A only  No. A and B\n",
       "0         0           0          20            1\n",
       "1         1          19           0            1\n",
       "2         4          17           0            0\n",
       "3        21           0           0            0"
      ]
     },
     "execution_count": 14,
     "metadata": {},
     "output_type": "execute_result"
    }
   ],
   "source": [
    "df_pcr_numbers = df_pcr.loc[:, 'No. None':'No. A and B']\n",
    "df_pcr_numbers"
   ]
  },
  {
   "cell_type": "code",
   "execution_count": 15,
   "id": "dbe196e0-56d7-4aaf-9944-c6e1aea2db9b",
   "metadata": {},
   "outputs": [
    {
     "data": {
      "image/png": "[encoded data removed]",
      "text/plain": [
       "<Figure size 648x360 with 8 Axes>"
      ]
     },
     "metadata": {
      "needs_background": "light"
     },
     "output_type": "display_data"
    }
   ],
   "source": [
    "strain_ls = df_pcr['Strain'].values\n",
    "\n",
    "fig, ax = plt.subplots(2,4, figsize=(9, 5))\n",
    "for s in range(len(strain_ls)):\n",
    "    s_data = df_pcr_data.iloc[s].values\n",
    "    s_expect = df_pcr_expect.iloc[s].values\n",
    "    s_numbers = df_pcr_numbers.iloc[s].values\n",
    "    \n",
    "    s_data = np.reshape(s_data, (2,2))\n",
    "    s_expect = np.reshape(s_expect, (2,2))\n",
    "    s_numbers = np.reshape(s_numbers, (2,2))\n",
    "    \n",
    "    plt.sca(ax[0,s])\n",
    "    sns.heatmap(s_expect, cmap='viridis', cbar=None)\n",
    "    plt.sca(ax[1,s])\n",
    "    sns.heatmap(s_data, cmap='viridis', cbar=None,\n",
    "                vmin=0,\n",
    "                vmax=1,\n",
    "                annot=s_numbers)\n",
    "    \n",
    "    ax[0, s].set_title(strain_ls[s])\n",
    "    ax[1, s].set_xlabel('Edited\\nBand Presence')\n",
    "    \n",
    "    ax[0,s].invert_yaxis()\n",
    "    ax[1,s].invert_yaxis()\n",
    "    \n",
    "ax[0,0].set_ylabel('Unedited\\nBand Presence\\nEXPECTED')\n",
    "ax[1,0].set_ylabel('Unedited\\nBand Presence\\nACTUAL')\n",
    "\n",
    "plt.tight_layout()\n",
    "plt.savefig('./figs/Fig_6D.pdf')\n",
    "\n",
    "plt.show()"
   ]
  },
  {
   "cell_type": "code",
   "execution_count": null,
   "id": "e5acdfdd-abdd-42fa-beb5-e96bde350c76",
   "metadata": {},
   "outputs": [],
   "source": []
  }
 ],
 "metadata": {
  "kernelspec": {
   "display_name": "Python 3 (ipykernel)",
   "language": "python",
   "name": "python3"
  },
  "language_info": {
   "codemirror_mode": {
    "name": "ipython",
    "version": 3
   },
   "file_extension": ".py",
   "mimetype": "text/x-python",
   "name": "python",
   "nbconvert_exporter": "python",
   "pygments_lexer": "ipython3",
   "version": "3.8.8"
  }
 },
 "nbformat": 4,
 "nbformat_minor": 5
}
